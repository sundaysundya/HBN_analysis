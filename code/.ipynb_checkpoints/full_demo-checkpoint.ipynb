{
 "cells": [
  {
   "cell_type": "code",
   "execution_count": 12,
   "metadata": {},
   "outputs": [],
   "source": [
    "#Unzip Edglist Data\n",
    "import zipfile\n",
    "for file in ('edgelists_fmriJHU.zip','edgelists_fmriaal.zip','edgelists_fmribrodmann.zip','edgelists_fmriCPAC200.zip','edgelists_fmridesikan.zip','edgelists_fmriDK.zip','edgelists_fmriHarOxCort.zip','edgelists_fmriHarOxSub.zip','edgelists_fmrihemispheric.zip','edgelists_fmripp264.zip','edgelists_fmritissue.zip'):\n",
    "    zip_ref = zipfile.ZipFile(file, 'r')\n",
    "    zip_ref.extractall()\n",
    "    zip_ref.close()"
   ]
  },
  {
   "cell_type": "code",
   "execution_count": 2,
   "metadata": {},
   "outputs": [
    {
     "name": "stdout",
     "output_type": "stream",
     "text": [
      "/home/sundaysundya/HBN_analysis/code\n"
     ]
    }
   ],
   "source": [
    "import os \n",
    "cwd = os.getcwd()\n",
    "print(cwd)"
   ]
  },
  {
   "cell_type": "code",
   "execution_count": 5,
   "metadata": {},
   "outputs": [],
   "source": [
    "# %load saveconnectomes.py\n",
    "\"\"\"\n",
    "Created on Fri Feb  8 12:01:30 2019\n",
    "This code reads all of the '.edgelist' files in a folder (a single atlas), creates their correlation matrix, \n",
    "vectorizes it, and puts it into a total matrix for the atlas where each row is one subject. \n",
    "@author: sandhya\n",
    "\"\"\"\n",
    "from connectome import make_connectome\n",
    "import os\n",
    "import numpy as np\n",
    "\n",
    "atlases = ('JHU','aal','brodmann','CPAC200','desikan','DK','HarOxCort','HarOxSub','hemispheric','pp264','tissue')\n",
    "\n",
    "for atlas in atlases:\n",
    "    edgelist = 'edgelists_fmri'+atlas\n",
    "    corrmtx = 'corrmtx_fmri'+atlas\n",
    "    path = cwd+'/'+edgelist\n",
    "    files = [f for f in os.listdir(path) if f.endswith('.edgelist')]\n",
    "    os.mkdir(cwd+'/'+corrmtx)\n",
    "    \n",
    "    \n",
    "    names = [None] * (len(files))\n",
    "    corr_mtx = make_connectome(edgelist+'/'+files[0])   # to get dimension of specific atlas\n",
    "    X = np.zeros([(len(files)),len(corr_mtx)**2])\n",
    "    \n",
    "    for i in range(0,(len(files))):\n",
    "        names[i] = files[i][4:16]\n",
    "        corr_mtx = make_connectome(edgelist+'/'+files[i])\n",
    "        vec = np.reshape(corr_mtx,(1, len(corr_mtx)**2))\n",
    "        X[i]=vec\n",
    "        \n",
    "        np.save('Xdata'+'_'+atlas,X)"
   ]
  },
  {
   "cell_type": "code",
   "execution_count": 17,
   "metadata": {},
   "outputs": [
    {
     "name": "stderr",
     "output_type": "stream",
     "text": [
      "/home/sundaysundya/.local/lib/python3.6/site-packages/xlrd/xlsx.py:266: PendingDeprecationWarning: This method will be removed in future versions.  Use 'tree.iter()' or 'list(tree.iter())' instead.\n",
      "  for elem in self.tree.iter() if Element_has_iter else self.tree.getiterator():\n",
      "/home/sundaysundya/.local/lib/python3.6/site-packages/xlrd/xlsx.py:312: PendingDeprecationWarning: This method will be removed in future versions.  Use 'tree.iter()' or 'list(tree.iter())' instead.\n",
      "  for elem in self.tree.iter() if Element_has_iter else self.tree.getiterator():\n",
      "/home/sundaysundya/.local/lib/python3.6/site-packages/mgcpy/independence_tests/abstract_class.py:154: UserWarning: The p-value is greater than 0.05, implying that the results are not statistically significant.\n",
      "Use results such as test_statistic and optimal_scale, with caution!\n",
      "  \"Use results such as test_statistic and optimal_scale, with caution!\")\n",
      "/home/sundaysundya/.local/lib/python3.6/site-packages/xlrd/xlsx.py:266: PendingDeprecationWarning: This method will be removed in future versions.  Use 'tree.iter()' or 'list(tree.iter())' instead.\n",
      "  for elem in self.tree.iter() if Element_has_iter else self.tree.getiterator():\n",
      "/home/sundaysundya/.local/lib/python3.6/site-packages/xlrd/xlsx.py:312: PendingDeprecationWarning: This method will be removed in future versions.  Use 'tree.iter()' or 'list(tree.iter())' instead.\n",
      "  for elem in self.tree.iter() if Element_has_iter else self.tree.getiterator():\n"
     ]
    },
    {
     "name": "stdout",
     "output_type": "stream",
     "text": [
      "ACE: JHU\n",
      "MGC test statistic: -0.07073692003068441\n",
      "P Value: 0.9270000000000007\n"
     ]
    },
    {
     "name": "stderr",
     "output_type": "stream",
     "text": [
      "/home/sundaysundya/.local/lib/python3.6/site-packages/mgcpy/independence_tests/abstract_class.py:154: UserWarning: The p-value is greater than 0.05, implying that the results are not statistically significant.\n",
      "Use results such as test_statistic and optimal_scale, with caution!\n",
      "  \"Use results such as test_statistic and optimal_scale, with caution!\")\n",
      "/home/sundaysundya/.local/lib/python3.6/site-packages/xlrd/xlsx.py:266: PendingDeprecationWarning: This method will be removed in future versions.  Use 'tree.iter()' or 'list(tree.iter())' instead.\n",
      "  for elem in self.tree.iter() if Element_has_iter else self.tree.getiterator():\n",
      "/home/sundaysundya/.local/lib/python3.6/site-packages/xlrd/xlsx.py:312: PendingDeprecationWarning: This method will be removed in future versions.  Use 'tree.iter()' or 'list(tree.iter())' instead.\n",
      "  for elem in self.tree.iter() if Element_has_iter else self.tree.getiterator():\n"
     ]
    },
    {
     "name": "stdout",
     "output_type": "stream",
     "text": [
      "ACE: aal\n",
      "MGC test statistic: -0.10695942762362323\n",
      "P Value: 0.9720000000000008\n"
     ]
    },
    {
     "name": "stderr",
     "output_type": "stream",
     "text": [
      "/home/sundaysundya/.local/lib/python3.6/site-packages/mgcpy/independence_tests/abstract_class.py:154: UserWarning: The p-value is greater than 0.05, implying that the results are not statistically significant.\n",
      "Use results such as test_statistic and optimal_scale, with caution!\n",
      "  \"Use results such as test_statistic and optimal_scale, with caution!\")\n",
      "/home/sundaysundya/.local/lib/python3.6/site-packages/xlrd/xlsx.py:266: PendingDeprecationWarning: This method will be removed in future versions.  Use 'tree.iter()' or 'list(tree.iter())' instead.\n",
      "  for elem in self.tree.iter() if Element_has_iter else self.tree.getiterator():\n",
      "/home/sundaysundya/.local/lib/python3.6/site-packages/xlrd/xlsx.py:312: PendingDeprecationWarning: This method will be removed in future versions.  Use 'tree.iter()' or 'list(tree.iter())' instead.\n",
      "  for elem in self.tree.iter() if Element_has_iter else self.tree.getiterator():\n"
     ]
    },
    {
     "name": "stdout",
     "output_type": "stream",
     "text": [
      "ACE: brodmann\n",
      "MGC test statistic: -0.11047489198598218\n",
      "P Value: 0.9750000000000008\n"
     ]
    },
    {
     "name": "stderr",
     "output_type": "stream",
     "text": [
      "/home/sundaysundya/.local/lib/python3.6/site-packages/mgcpy/independence_tests/abstract_class.py:154: UserWarning: The p-value is greater than 0.05, implying that the results are not statistically significant.\n",
      "Use results such as test_statistic and optimal_scale, with caution!\n",
      "  \"Use results such as test_statistic and optimal_scale, with caution!\")\n",
      "/home/sundaysundya/.local/lib/python3.6/site-packages/xlrd/xlsx.py:266: PendingDeprecationWarning: This method will be removed in future versions.  Use 'tree.iter()' or 'list(tree.iter())' instead.\n",
      "  for elem in self.tree.iter() if Element_has_iter else self.tree.getiterator():\n",
      "/home/sundaysundya/.local/lib/python3.6/site-packages/xlrd/xlsx.py:312: PendingDeprecationWarning: This method will be removed in future versions.  Use 'tree.iter()' or 'list(tree.iter())' instead.\n",
      "  for elem in self.tree.iter() if Element_has_iter else self.tree.getiterator():\n"
     ]
    },
    {
     "name": "stdout",
     "output_type": "stream",
     "text": [
      "ACE: CPAC200\n",
      "MGC test statistic: -0.098260452539017\n",
      "P Value: 0.9470000000000007\n"
     ]
    },
    {
     "name": "stderr",
     "output_type": "stream",
     "text": [
      "/home/sundaysundya/.local/lib/python3.6/site-packages/mgcpy/independence_tests/abstract_class.py:154: UserWarning: The p-value is greater than 0.05, implying that the results are not statistically significant.\n",
      "Use results such as test_statistic and optimal_scale, with caution!\n",
      "  \"Use results such as test_statistic and optimal_scale, with caution!\")\n",
      "/home/sundaysundya/.local/lib/python3.6/site-packages/xlrd/xlsx.py:266: PendingDeprecationWarning: This method will be removed in future versions.  Use 'tree.iter()' or 'list(tree.iter())' instead.\n",
      "  for elem in self.tree.iter() if Element_has_iter else self.tree.getiterator():\n",
      "/home/sundaysundya/.local/lib/python3.6/site-packages/xlrd/xlsx.py:312: PendingDeprecationWarning: This method will be removed in future versions.  Use 'tree.iter()' or 'list(tree.iter())' instead.\n",
      "  for elem in self.tree.iter() if Element_has_iter else self.tree.getiterator():\n"
     ]
    },
    {
     "name": "stdout",
     "output_type": "stream",
     "text": [
      "ACE: desikan\n",
      "MGC test statistic: -0.12060202113509154\n",
      "P Value: 0.9960000000000008\n"
     ]
    },
    {
     "name": "stderr",
     "output_type": "stream",
     "text": [
      "/home/sundaysundya/.local/lib/python3.6/site-packages/mgcpy/independence_tests/abstract_class.py:154: UserWarning: The p-value is greater than 0.05, implying that the results are not statistically significant.\n",
      "Use results such as test_statistic and optimal_scale, with caution!\n",
      "  \"Use results such as test_statistic and optimal_scale, with caution!\")\n",
      "/home/sundaysundya/.local/lib/python3.6/site-packages/xlrd/xlsx.py:266: PendingDeprecationWarning: This method will be removed in future versions.  Use 'tree.iter()' or 'list(tree.iter())' instead.\n",
      "  for elem in self.tree.iter() if Element_has_iter else self.tree.getiterator():\n",
      "/home/sundaysundya/.local/lib/python3.6/site-packages/xlrd/xlsx.py:312: PendingDeprecationWarning: This method will be removed in future versions.  Use 'tree.iter()' or 'list(tree.iter())' instead.\n",
      "  for elem in self.tree.iter() if Element_has_iter else self.tree.getiterator():\n"
     ]
    },
    {
     "name": "stdout",
     "output_type": "stream",
     "text": [
      "ACE: DK\n",
      "MGC test statistic: -0.11519529297809218\n",
      "P Value: 0.9870000000000008\n"
     ]
    },
    {
     "name": "stderr",
     "output_type": "stream",
     "text": [
      "/home/sundaysundya/.local/lib/python3.6/site-packages/mgcpy/independence_tests/abstract_class.py:154: UserWarning: The p-value is greater than 0.05, implying that the results are not statistically significant.\n",
      "Use results such as test_statistic and optimal_scale, with caution!\n",
      "  \"Use results such as test_statistic and optimal_scale, with caution!\")\n",
      "/home/sundaysundya/.local/lib/python3.6/site-packages/xlrd/xlsx.py:266: PendingDeprecationWarning: This method will be removed in future versions.  Use 'tree.iter()' or 'list(tree.iter())' instead.\n",
      "  for elem in self.tree.iter() if Element_has_iter else self.tree.getiterator():\n",
      "/home/sundaysundya/.local/lib/python3.6/site-packages/xlrd/xlsx.py:312: PendingDeprecationWarning: This method will be removed in future versions.  Use 'tree.iter()' or 'list(tree.iter())' instead.\n",
      "  for elem in self.tree.iter() if Element_has_iter else self.tree.getiterator():\n"
     ]
    },
    {
     "name": "stdout",
     "output_type": "stream",
     "text": [
      "ACE: HarOxCort\n",
      "MGC test statistic: -0.09684547656293904\n",
      "P Value: 0.9350000000000007\n"
     ]
    },
    {
     "name": "stderr",
     "output_type": "stream",
     "text": [
      "/home/sundaysundya/.local/lib/python3.6/site-packages/mgcpy/independence_tests/abstract_class.py:154: UserWarning: The p-value is greater than 0.05, implying that the results are not statistically significant.\n",
      "Use results such as test_statistic and optimal_scale, with caution!\n",
      "  \"Use results such as test_statistic and optimal_scale, with caution!\")\n",
      "/home/sundaysundya/.local/lib/python3.6/site-packages/xlrd/xlsx.py:266: PendingDeprecationWarning: This method will be removed in future versions.  Use 'tree.iter()' or 'list(tree.iter())' instead.\n",
      "  for elem in self.tree.iter() if Element_has_iter else self.tree.getiterator():\n",
      "/home/sundaysundya/.local/lib/python3.6/site-packages/xlrd/xlsx.py:312: PendingDeprecationWarning: This method will be removed in future versions.  Use 'tree.iter()' or 'list(tree.iter())' instead.\n",
      "  for elem in self.tree.iter() if Element_has_iter else self.tree.getiterator():\n"
     ]
    },
    {
     "name": "stdout",
     "output_type": "stream",
     "text": [
      "ACE: HarOxSub\n",
      "MGC test statistic: -0.11754889178344657\n",
      "P Value: 0.9690000000000007\n"
     ]
    },
    {
     "name": "stderr",
     "output_type": "stream",
     "text": [
      "/home/sundaysundya/.local/lib/python3.6/site-packages/mgcpy/independence_tests/abstract_class.py:154: UserWarning: The p-value is greater than 0.05, implying that the results are not statistically significant.\n",
      "Use results such as test_statistic and optimal_scale, with caution!\n",
      "  \"Use results such as test_statistic and optimal_scale, with caution!\")\n",
      "/home/sundaysundya/.local/lib/python3.6/site-packages/xlrd/xlsx.py:266: PendingDeprecationWarning: This method will be removed in future versions.  Use 'tree.iter()' or 'list(tree.iter())' instead.\n",
      "  for elem in self.tree.iter() if Element_has_iter else self.tree.getiterator():\n",
      "/home/sundaysundya/.local/lib/python3.6/site-packages/xlrd/xlsx.py:312: PendingDeprecationWarning: This method will be removed in future versions.  Use 'tree.iter()' or 'list(tree.iter())' instead.\n",
      "  for elem in self.tree.iter() if Element_has_iter else self.tree.getiterator():\n"
     ]
    },
    {
     "name": "stdout",
     "output_type": "stream",
     "text": [
      "ACE: hemispheric\n",
      "MGC test statistic: -0.08092062233419617\n",
      "P Value: 0.8340000000000006\n"
     ]
    },
    {
     "name": "stderr",
     "output_type": "stream",
     "text": [
      "/home/sundaysundya/.local/lib/python3.6/site-packages/mgcpy/independence_tests/abstract_class.py:154: UserWarning: The p-value is greater than 0.05, implying that the results are not statistically significant.\n",
      "Use results such as test_statistic and optimal_scale, with caution!\n",
      "  \"Use results such as test_statistic and optimal_scale, with caution!\")\n",
      "/home/sundaysundya/.local/lib/python3.6/site-packages/xlrd/xlsx.py:266: PendingDeprecationWarning: This method will be removed in future versions.  Use 'tree.iter()' or 'list(tree.iter())' instead.\n",
      "  for elem in self.tree.iter() if Element_has_iter else self.tree.getiterator():\n",
      "/home/sundaysundya/.local/lib/python3.6/site-packages/xlrd/xlsx.py:312: PendingDeprecationWarning: This method will be removed in future versions.  Use 'tree.iter()' or 'list(tree.iter())' instead.\n",
      "  for elem in self.tree.iter() if Element_has_iter else self.tree.getiterator():\n"
     ]
    },
    {
     "name": "stdout",
     "output_type": "stream",
     "text": [
      "ACE: pp264\n",
      "MGC test statistic: -0.17388161564373236\n",
      "P Value: 0.9910000000000008\n"
     ]
    },
    {
     "name": "stderr",
     "output_type": "stream",
     "text": [
      "/home/sundaysundya/.local/lib/python3.6/site-packages/mgcpy/independence_tests/abstract_class.py:154: UserWarning: The p-value is greater than 0.05, implying that the results are not statistically significant.\n",
      "Use results such as test_statistic and optimal_scale, with caution!\n",
      "  \"Use results such as test_statistic and optimal_scale, with caution!\")\n",
      "/home/sundaysundya/.local/lib/python3.6/site-packages/xlrd/xlsx.py:266: PendingDeprecationWarning: This method will be removed in future versions.  Use 'tree.iter()' or 'list(tree.iter())' instead.\n",
      "  for elem in self.tree.iter() if Element_has_iter else self.tree.getiterator():\n",
      "/home/sundaysundya/.local/lib/python3.6/site-packages/xlrd/xlsx.py:312: PendingDeprecationWarning: This method will be removed in future versions.  Use 'tree.iter()' or 'list(tree.iter())' instead.\n",
      "  for elem in self.tree.iter() if Element_has_iter else self.tree.getiterator():\n"
     ]
    },
    {
     "name": "stdout",
     "output_type": "stream",
     "text": [
      "ACE: tissue\n",
      "MGC test statistic: -0.02444368685235211\n",
      "P Value: 0.5150000000000003\n"
     ]
    },
    {
     "name": "stderr",
     "output_type": "stream",
     "text": [
      "/home/sundaysundya/.local/lib/python3.6/site-packages/mgcpy/independence_tests/abstract_class.py:154: UserWarning: The p-value is greater than 0.05, implying that the results are not statistically significant.\n",
      "Use results such as test_statistic and optimal_scale, with caution!\n",
      "  \"Use results such as test_statistic and optimal_scale, with caution!\")\n",
      "/home/sundaysundya/.local/lib/python3.6/site-packages/xlrd/xlsx.py:266: PendingDeprecationWarning: This method will be removed in future versions.  Use 'tree.iter()' or 'list(tree.iter())' instead.\n",
      "  for elem in self.tree.iter() if Element_has_iter else self.tree.getiterator():\n",
      "/home/sundaysundya/.local/lib/python3.6/site-packages/xlrd/xlsx.py:312: PendingDeprecationWarning: This method will be removed in future versions.  Use 'tree.iter()' or 'list(tree.iter())' instead.\n",
      "  for elem in self.tree.iter() if Element_has_iter else self.tree.getiterator():\n"
     ]
    },
    {
     "name": "stdout",
     "output_type": "stream",
     "text": [
      "ASR: JHU\n",
      "MGC test statistic: -0.07332742165799437\n",
      "P Value: 0.8160000000000006\n"
     ]
    },
    {
     "name": "stderr",
     "output_type": "stream",
     "text": [
      "/home/sundaysundya/.local/lib/python3.6/site-packages/mgcpy/independence_tests/abstract_class.py:154: UserWarning: The p-value is greater than 0.05, implying that the results are not statistically significant.\n",
      "Use results such as test_statistic and optimal_scale, with caution!\n",
      "  \"Use results such as test_statistic and optimal_scale, with caution!\")\n",
      "/home/sundaysundya/.local/lib/python3.6/site-packages/xlrd/xlsx.py:266: PendingDeprecationWarning: This method will be removed in future versions.  Use 'tree.iter()' or 'list(tree.iter())' instead.\n",
      "  for elem in self.tree.iter() if Element_has_iter else self.tree.getiterator():\n",
      "/home/sundaysundya/.local/lib/python3.6/site-packages/xlrd/xlsx.py:312: PendingDeprecationWarning: This method will be removed in future versions.  Use 'tree.iter()' or 'list(tree.iter())' instead.\n",
      "  for elem in self.tree.iter() if Element_has_iter else self.tree.getiterator():\n"
     ]
    },
    {
     "name": "stdout",
     "output_type": "stream",
     "text": [
      "ASR: aal\n",
      "MGC test statistic: -0.03751334500606073\n",
      "P Value: 0.5120000000000003\n"
     ]
    },
    {
     "name": "stderr",
     "output_type": "stream",
     "text": [
      "/home/sundaysundya/.local/lib/python3.6/site-packages/mgcpy/independence_tests/abstract_class.py:154: UserWarning: The p-value is greater than 0.05, implying that the results are not statistically significant.\n",
      "Use results such as test_statistic and optimal_scale, with caution!\n",
      "  \"Use results such as test_statistic and optimal_scale, with caution!\")\n",
      "/home/sundaysundya/.local/lib/python3.6/site-packages/xlrd/xlsx.py:266: PendingDeprecationWarning: This method will be removed in future versions.  Use 'tree.iter()' or 'list(tree.iter())' instead.\n",
      "  for elem in self.tree.iter() if Element_has_iter else self.tree.getiterator():\n",
      "/home/sundaysundya/.local/lib/python3.6/site-packages/xlrd/xlsx.py:312: PendingDeprecationWarning: This method will be removed in future versions.  Use 'tree.iter()' or 'list(tree.iter())' instead.\n",
      "  for elem in self.tree.iter() if Element_has_iter else self.tree.getiterator():\n"
     ]
    },
    {
     "name": "stdout",
     "output_type": "stream",
     "text": [
      "ASR: brodmann\n",
      "MGC test statistic: -0.06653294497596308\n",
      "P Value: 0.6520000000000005\n"
     ]
    },
    {
     "name": "stderr",
     "output_type": "stream",
     "text": [
      "/home/sundaysundya/.local/lib/python3.6/site-packages/mgcpy/independence_tests/abstract_class.py:154: UserWarning: The p-value is greater than 0.05, implying that the results are not statistically significant.\n",
      "Use results such as test_statistic and optimal_scale, with caution!\n",
      "  \"Use results such as test_statistic and optimal_scale, with caution!\")\n",
      "/home/sundaysundya/.local/lib/python3.6/site-packages/xlrd/xlsx.py:266: PendingDeprecationWarning: This method will be removed in future versions.  Use 'tree.iter()' or 'list(tree.iter())' instead.\n",
      "  for elem in self.tree.iter() if Element_has_iter else self.tree.getiterator():\n",
      "/home/sundaysundya/.local/lib/python3.6/site-packages/xlrd/xlsx.py:312: PendingDeprecationWarning: This method will be removed in future versions.  Use 'tree.iter()' or 'list(tree.iter())' instead.\n",
      "  for elem in self.tree.iter() if Element_has_iter else self.tree.getiterator():\n"
     ]
    },
    {
     "name": "stdout",
     "output_type": "stream",
     "text": [
      "ASR: CPAC200\n",
      "MGC test statistic: -0.06194431399766919\n",
      "P Value: 0.6460000000000005\n"
     ]
    },
    {
     "name": "stderr",
     "output_type": "stream",
     "text": [
      "/home/sundaysundya/.local/lib/python3.6/site-packages/mgcpy/independence_tests/abstract_class.py:154: UserWarning: The p-value is greater than 0.05, implying that the results are not statistically significant.\n",
      "Use results such as test_statistic and optimal_scale, with caution!\n",
      "  \"Use results such as test_statistic and optimal_scale, with caution!\")\n",
      "/home/sundaysundya/.local/lib/python3.6/site-packages/xlrd/xlsx.py:266: PendingDeprecationWarning: This method will be removed in future versions.  Use 'tree.iter()' or 'list(tree.iter())' instead.\n",
      "  for elem in self.tree.iter() if Element_has_iter else self.tree.getiterator():\n",
      "/home/sundaysundya/.local/lib/python3.6/site-packages/xlrd/xlsx.py:312: PendingDeprecationWarning: This method will be removed in future versions.  Use 'tree.iter()' or 'list(tree.iter())' instead.\n",
      "  for elem in self.tree.iter() if Element_has_iter else self.tree.getiterator():\n"
     ]
    },
    {
     "name": "stdout",
     "output_type": "stream",
     "text": [
      "ASR: desikan\n",
      "MGC test statistic: -0.09332650586899306\n",
      "P Value: 0.7550000000000006\n"
     ]
    },
    {
     "name": "stderr",
     "output_type": "stream",
     "text": [
      "/home/sundaysundya/.local/lib/python3.6/site-packages/mgcpy/independence_tests/abstract_class.py:154: UserWarning: The p-value is greater than 0.05, implying that the results are not statistically significant.\n",
      "Use results such as test_statistic and optimal_scale, with caution!\n",
      "  \"Use results such as test_statistic and optimal_scale, with caution!\")\n",
      "/home/sundaysundya/.local/lib/python3.6/site-packages/xlrd/xlsx.py:266: PendingDeprecationWarning: This method will be removed in future versions.  Use 'tree.iter()' or 'list(tree.iter())' instead.\n",
      "  for elem in self.tree.iter() if Element_has_iter else self.tree.getiterator():\n",
      "/home/sundaysundya/.local/lib/python3.6/site-packages/xlrd/xlsx.py:312: PendingDeprecationWarning: This method will be removed in future versions.  Use 'tree.iter()' or 'list(tree.iter())' instead.\n",
      "  for elem in self.tree.iter() if Element_has_iter else self.tree.getiterator():\n"
     ]
    },
    {
     "name": "stdout",
     "output_type": "stream",
     "text": [
      "ASR: DK\n",
      "MGC test statistic: -0.0822872606237091\n",
      "P Value: 0.7240000000000005\n"
     ]
    },
    {
     "name": "stderr",
     "output_type": "stream",
     "text": [
      "/home/sundaysundya/.local/lib/python3.6/site-packages/mgcpy/independence_tests/abstract_class.py:154: UserWarning: The p-value is greater than 0.05, implying that the results are not statistically significant.\n",
      "Use results such as test_statistic and optimal_scale, with caution!\n",
      "  \"Use results such as test_statistic and optimal_scale, with caution!\")\n",
      "/home/sundaysundya/.local/lib/python3.6/site-packages/xlrd/xlsx.py:266: PendingDeprecationWarning: This method will be removed in future versions.  Use 'tree.iter()' or 'list(tree.iter())' instead.\n",
      "  for elem in self.tree.iter() if Element_has_iter else self.tree.getiterator():\n",
      "/home/sundaysundya/.local/lib/python3.6/site-packages/xlrd/xlsx.py:312: PendingDeprecationWarning: This method will be removed in future versions.  Use 'tree.iter()' or 'list(tree.iter())' instead.\n",
      "  for elem in self.tree.iter() if Element_has_iter else self.tree.getiterator():\n"
     ]
    },
    {
     "name": "stdout",
     "output_type": "stream",
     "text": [
      "ASR: HarOxCort\n",
      "MGC test statistic: -0.09137879011071946\n",
      "P Value: 0.7780000000000006\n"
     ]
    },
    {
     "name": "stderr",
     "output_type": "stream",
     "text": [
      "/home/sundaysundya/.local/lib/python3.6/site-packages/mgcpy/independence_tests/abstract_class.py:154: UserWarning: The p-value is greater than 0.05, implying that the results are not statistically significant.\n",
      "Use results such as test_statistic and optimal_scale, with caution!\n",
      "  \"Use results such as test_statistic and optimal_scale, with caution!\")\n",
      "/home/sundaysundya/.local/lib/python3.6/site-packages/xlrd/xlsx.py:266: PendingDeprecationWarning: This method will be removed in future versions.  Use 'tree.iter()' or 'list(tree.iter())' instead.\n",
      "  for elem in self.tree.iter() if Element_has_iter else self.tree.getiterator():\n",
      "/home/sundaysundya/.local/lib/python3.6/site-packages/xlrd/xlsx.py:312: PendingDeprecationWarning: This method will be removed in future versions.  Use 'tree.iter()' or 'list(tree.iter())' instead.\n",
      "  for elem in self.tree.iter() if Element_has_iter else self.tree.getiterator():\n"
     ]
    },
    {
     "name": "stdout",
     "output_type": "stream",
     "text": [
      "ASR: HarOxSub\n",
      "MGC test statistic: -0.08676661458787002\n",
      "P Value: 0.7560000000000006\n"
     ]
    },
    {
     "name": "stderr",
     "output_type": "stream",
     "text": [
      "/home/sundaysundya/.local/lib/python3.6/site-packages/mgcpy/independence_tests/abstract_class.py:154: UserWarning: The p-value is greater than 0.05, implying that the results are not statistically significant.\n",
      "Use results such as test_statistic and optimal_scale, with caution!\n",
      "  \"Use results such as test_statistic and optimal_scale, with caution!\")\n",
      "/home/sundaysundya/.local/lib/python3.6/site-packages/xlrd/xlsx.py:266: PendingDeprecationWarning: This method will be removed in future versions.  Use 'tree.iter()' or 'list(tree.iter())' instead.\n",
      "  for elem in self.tree.iter() if Element_has_iter else self.tree.getiterator():\n",
      "/home/sundaysundya/.local/lib/python3.6/site-packages/xlrd/xlsx.py:312: PendingDeprecationWarning: This method will be removed in future versions.  Use 'tree.iter()' or 'list(tree.iter())' instead.\n",
      "  for elem in self.tree.iter() if Element_has_iter else self.tree.getiterator():\n"
     ]
    },
    {
     "name": "stdout",
     "output_type": "stream",
     "text": [
      "ASR: hemispheric\n",
      "MGC test statistic: -0.06763236204417342\n",
      "P Value: 0.6750000000000005\n"
     ]
    },
    {
     "name": "stderr",
     "output_type": "stream",
     "text": [
      "/home/sundaysundya/.local/lib/python3.6/site-packages/mgcpy/independence_tests/abstract_class.py:154: UserWarning: The p-value is greater than 0.05, implying that the results are not statistically significant.\n",
      "Use results such as test_statistic and optimal_scale, with caution!\n",
      "  \"Use results such as test_statistic and optimal_scale, with caution!\")\n",
      "/home/sundaysundya/.local/lib/python3.6/site-packages/xlrd/xlsx.py:266: PendingDeprecationWarning: This method will be removed in future versions.  Use 'tree.iter()' or 'list(tree.iter())' instead.\n",
      "  for elem in self.tree.iter() if Element_has_iter else self.tree.getiterator():\n",
      "/home/sundaysundya/.local/lib/python3.6/site-packages/xlrd/xlsx.py:312: PendingDeprecationWarning: This method will be removed in future versions.  Use 'tree.iter()' or 'list(tree.iter())' instead.\n",
      "  for elem in self.tree.iter() if Element_has_iter else self.tree.getiterator():\n"
     ]
    },
    {
     "name": "stdout",
     "output_type": "stream",
     "text": [
      "ASR: pp264\n",
      "MGC test statistic: -0.12870742324984288\n",
      "P Value: 0.8510000000000006\n",
      "ASR: tissue\n",
      "MGC test statistic: -0.10140433840751216\n",
      "P Value: 0.7950000000000006\n"
     ]
    },
    {
     "name": "stderr",
     "output_type": "stream",
     "text": [
      "/home/sundaysundya/.local/lib/python3.6/site-packages/mgcpy/independence_tests/abstract_class.py:154: UserWarning: The p-value is greater than 0.05, implying that the results are not statistically significant.\n",
      "Use results such as test_statistic and optimal_scale, with caution!\n",
      "  \"Use results such as test_statistic and optimal_scale, with caution!\")\n"
     ]
    }
   ],
   "source": [
    "# %load idcompare.py\n",
    "\"\"\"\n",
    "Created on Fri Feb  8 15:19:31 2019\n",
    "This code finds the intersection of connectome data and phenotypic data for one test at a time, for each atlas.\n",
    "\n",
    "                        (Note: slight edits made to put idcompare.py and runmgc.py together)\n",
    "@author: sandhya\n",
    "\"\"\"\n",
    "\n",
    "import numpy as np\n",
    "import scipy.io as scp\n",
    "import pandas as pd\n",
    "import os\n",
    "\n",
    "HBNtests = ('ACE','APQ_SR','ARI_P','ARI_S','ASR', 'ASSQ','AUDIT','Barratt','CELF_5_Screen','Digit_Span','FTND','Fitness_Endurance','IAT','MFQ_P','MFQ_SR','PAQ_A','PAQ_C','PCIAT','PSI','SCARED_P','SCARED_SR','SDS','STAI','SWAN','YSR')\n",
    "atlases = ('JHU','aal','brodmann','CPAC200','desikan','DK','HarOxCort','HarOxSub','hemispheric','pp264','tissue')\n",
    "\n",
    "finaltable = np.zeros([len(HBNtests), len(atlases)])\n",
    "\n",
    "k = 0\n",
    "for hbntest in HBNtests:\n",
    "    l = 0\n",
    "    results = np.zeros([1, len(atlases)])\n",
    "            #find intersection of correlation matrix data and phenotypic data subjects\n",
    "    for atlas in atlases:\n",
    "        path = cwd+'/edgelists_fmri' + atlas\n",
    "        files = [f for f in os.listdir(path) if f.endswith('.edgelist')]\n",
    "\n",
    "        names = [None] * len(files)\n",
    "\n",
    "\n",
    "        for i in range(0,len(files)):\n",
    "            names[i] = files[i][4:16]\n",
    "\n",
    "\n",
    "        X = np.load('Xdata_'+atlas+'.npy')\n",
    "\n",
    "\n",
    "                    #single test at a time\n",
    "        testname = hbntest\n",
    "        test = pd.ExcelFile('cleaned_pheno/clean_'+testname+'.xlsx')\n",
    "        test = test.parse('Sheet1')\n",
    "        test = test.values\n",
    "        testnam=test[:,0].astype('str')\n",
    "        sz = testnam.size\n",
    "        testnam2 = testnam.reshape(sz,1)\n",
    "        testnam= np.ndarray.tolist(testnam)\n",
    "        testdat = test[:,1].astype('int').reshape(sz,1)\n",
    "        testtab = np.concatenate((testnam2, testdat), axis=1)\n",
    "\n",
    "        intersection = list(set(names) & set(testnam))\n",
    "\n",
    "\n",
    "\n",
    "        Yintersect = np.zeros([len(intersection),1])\n",
    "        for i in range(0,len(intersection)):\n",
    "            for j in range(0,len(testtab)):\n",
    "                if intersection[i]==testtab[j,0]:\n",
    "                    Yintersect[i,0] = testtab[j,1]\n",
    "\n",
    "        names2 = np.array(names).reshape(len(files),1)\n",
    "        Xdata = np.concatenate((names2,X), axis=1)\n",
    "\n",
    "        Xintersect = np.zeros([len(intersection),X.shape[1]])\n",
    "        for i in range(0, len(intersection)):\n",
    "            for j in range(0,len(Xdata)):\n",
    "                if intersection[i] == Xdata[j,0]:\n",
    "                    Xintersect[i,:]=Xdata[j,1:(X.shape[1]+1)]\n",
    "\n",
    "        #np.save('Xintersect_c_'+atlas,Xintersect)\n",
    "        #np.save('Yintersect_c_'+atlas,Yintersect)\n",
    "\n",
    "        # %load runmgc.py\n",
    "        \"\"\"\n",
    "        Created on Fri Feb 15 12:13:46 2019\n",
    "\n",
    "        @author: sandhya\n",
    "        \"\"\"\n",
    "        test = testname\n",
    "        import numpy as np\n",
    "        from mgcpy.independence_tests.mgc import MGC\n",
    "        import matplotlib.pyplot as plt; plt.style.use('classic')\n",
    "        import seaborn as sns; sns.set()\n",
    "        X = Xintersect\n",
    "        Y = Yintersect\n",
    "        mgc = MGC()\n",
    "        mgc_statistic, independence_test_metadata = mgc.test_statistic(X, Y)\n",
    "        p_value, metadata = mgc.p_value(X, Y)\n",
    "        print(hbntest+ ': '+atlas)\n",
    "        print(\"MGC test statistic:\", mgc_statistic)\n",
    "        print(\"P Value:\", p_value)\n",
    "        results[0,l]=p_value\n",
    "        l+=1\n",
    "    finaltable[k,:] = results\n",
    "    k+=1"
   ]
  },
  {
   "cell_type": "code",
   "execution_count": 19,
   "metadata": {},
   "outputs": [
    {
     "name": "stdout",
     "output_type": "stream",
     "text": [
      "[[0.927 0.972 0.975 0.947 0.996 0.987 0.935 0.969 0.834 0.991 0.515]\n",
      " [0.816 0.512 0.652 0.646 0.755 0.724 0.778 0.756 0.675 0.851 0.795]]\n"
     ]
    }
   ],
   "source": [
    "print(finaltable)"
   ]
  },
  {
   "cell_type": "code",
   "execution_count": 23,
   "metadata": {},
   "outputs": [
    {
     "data": {
      "text/plain": [
       "<matplotlib.axes._subplots.AxesSubplot at 0x7f55c023c668>"
      ]
     },
     "execution_count": 23,
     "metadata": {},
     "output_type": "execute_result"
    },
    {
     "data": {
      "image/png": "[encoded data removed]",
      "text/plain": [
       "<Figure size 640x480 with 2 Axes>"
      ]
     },
     "metadata": {},
     "output_type": "display_data"
    }
   ],
   "source": [
    "xticks = np.linspace(0, len(atlases)-1, len(atlases), dtype=np.int)\n",
    "xticklabels = [atlases[idx] for idx in xticks]\n",
    "yticks = np.linspace(0, len(HBNtests)-1, len(HBNtests), dtype=np.int)\n",
    "yticklabels = [HBNtests[ndx] for ndx in yticks]\n",
    "sns.heatmap(finaltable, vmin = 0, vmax = 0.05, xticklabels=xticklabels, yticklabels=yticklabels, cmap = sns.cm.rocket_r, square = True)"
   ]
  },
  {
   "cell_type": "code",
   "execution_count": 24,
   "metadata": {},
   "outputs": [
    {
     "data": {
      "text/plain": [
       "<matplotlib.axes._subplots.AxesSubplot at 0x7f55c0198278>"
      ]
     },
     "execution_count": 24,
     "metadata": {},
     "output_type": "execute_result"
    },
    {
     "data": {
      "image/png": "[encoded data removed]",
      "text/plain": [
       "<Figure size 640x480 with 2 Axes>"
      ]
     },
     "metadata": {},
     "output_type": "display_data"
    }
   ],
   "source": [
    "xticks = np.linspace(0, len(atlases)-1, len(atlases), dtype=np.int)\n",
    "xticklabels = [atlases[idx] for idx in xticks]\n",
    "yticks = np.linspace(0, len(HBNtests)-1, len(HBNtests), dtype=np.int)\n",
    "yticklabels = [HBNtests[ndx] for ndx in yticks]\n",
    "sns.heatmap(finaltable, xticklabels=xticklabels, yticklabels=yticklabels, cmap = sns.cm.rocket_r, square = True)"
   ]
  }
 ],
 "metadata": {
  "kernelspec": {
   "display_name": "Python 3",
   "language": "python",
   "name": "python3"
  },
  "language_info": {
   "codemirror_mode": {
    "name": "ipython",
    "version": 3
   },
   "file_extension": ".py",
   "mimetype": "text/x-python",
   "name": "python",
   "nbconvert_exporter": "python",
   "pygments_lexer": "ipython3",
   "version": "3.6.7"
  }
 },
 "nbformat": 4,
 "nbformat_minor": 2
}
