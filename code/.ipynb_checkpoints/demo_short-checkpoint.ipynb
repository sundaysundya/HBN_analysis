{
 "cells": [
  {
   "cell_type": "code",
   "execution_count": 1,
   "metadata": {},
   "outputs": [
    {
     "name": "stdout",
     "output_type": "stream",
     "text": [
      "numpy installed\n",
      "matplotlib installed\n",
      "seaborn installed\n",
      "mgcpy installed\n"
     ]
    }
   ],
   "source": [
    "import subprocess\n",
    "import sys\n",
    "\n",
    "def install(package):\n",
    "    subprocess.call([sys.executable, \"-m\", \"pip\", \"install\", package])\n",
    "    print(package+' installed')\n",
    "\n",
    "install('numpy')\n",
    "install('matplotlib')\n",
    "install('seaborn')\n",
    "install('mgcpy')"
   ]
  },
  {
   "cell_type": "code",
   "execution_count": 2,
   "metadata": {},
   "outputs": [
    {
     "name": "stderr",
     "output_type": "stream",
     "text": [
      "/home/sundaysundya/.local/lib/python3.6/site-packages/mgcpy/independence_tests/abstract_class.py:154: UserWarning: The p-value is greater than 0.05, implying that the results are not statistically significant.\n",
      "Use results such as test_statistic and optimal_scale, with caution!\n",
      "  \"Use results such as test_statistic and optimal_scale, with caution!\")\n"
     ]
    },
    {
     "name": "stdout",
     "output_type": "stream",
     "text": [
      "JHU\n",
      "MGC test statistic: -0.07073692003068441\n",
      "P Value: 0.9180000000000007\n"
     ]
    },
    {
     "name": "stderr",
     "output_type": "stream",
     "text": [
      "/home/sundaysundya/.local/lib/python3.6/site-packages/mgcpy/independence_tests/abstract_class.py:154: UserWarning: The p-value is greater than 0.05, implying that the results are not statistically significant.\n",
      "Use results such as test_statistic and optimal_scale, with caution!\n",
      "  \"Use results such as test_statistic and optimal_scale, with caution!\")\n"
     ]
    },
    {
     "name": "stdout",
     "output_type": "stream",
     "text": [
      "aal\n",
      "MGC test statistic: -0.10695942762362323\n",
      "P Value: 0.9700000000000008\n"
     ]
    },
    {
     "name": "stderr",
     "output_type": "stream",
     "text": [
      "/home/sundaysundya/.local/lib/python3.6/site-packages/mgcpy/independence_tests/abstract_class.py:154: UserWarning: The p-value is greater than 0.05, implying that the results are not statistically significant.\n",
      "Use results such as test_statistic and optimal_scale, with caution!\n",
      "  \"Use results such as test_statistic and optimal_scale, with caution!\")\n"
     ]
    },
    {
     "name": "stdout",
     "output_type": "stream",
     "text": [
      "brodmann\n",
      "MGC test statistic: -0.11047489198598218\n",
      "P Value: 0.9770000000000008\n"
     ]
    },
    {
     "name": "stderr",
     "output_type": "stream",
     "text": [
      "/home/sundaysundya/.local/lib/python3.6/site-packages/mgcpy/independence_tests/abstract_class.py:154: UserWarning: The p-value is greater than 0.05, implying that the results are not statistically significant.\n",
      "Use results such as test_statistic and optimal_scale, with caution!\n",
      "  \"Use results such as test_statistic and optimal_scale, with caution!\")\n"
     ]
    },
    {
     "name": "stdout",
     "output_type": "stream",
     "text": [
      "CPAC200\n",
      "MGC test statistic: -0.098260452539017\n",
      "P Value: 0.9350000000000007\n"
     ]
    },
    {
     "name": "stderr",
     "output_type": "stream",
     "text": [
      "/home/sundaysundya/.local/lib/python3.6/site-packages/mgcpy/independence_tests/abstract_class.py:154: UserWarning: The p-value is greater than 0.05, implying that the results are not statistically significant.\n",
      "Use results such as test_statistic and optimal_scale, with caution!\n",
      "  \"Use results such as test_statistic and optimal_scale, with caution!\")\n"
     ]
    },
    {
     "name": "stdout",
     "output_type": "stream",
     "text": [
      "desikan\n",
      "MGC test statistic: -0.12060202113509154\n",
      "P Value: 0.9950000000000008\n"
     ]
    },
    {
     "name": "stderr",
     "output_type": "stream",
     "text": [
      "/home/sundaysundya/.local/lib/python3.6/site-packages/mgcpy/independence_tests/abstract_class.py:154: UserWarning: The p-value is greater than 0.05, implying that the results are not statistically significant.\n",
      "Use results such as test_statistic and optimal_scale, with caution!\n",
      "  \"Use results such as test_statistic and optimal_scale, with caution!\")\n"
     ]
    },
    {
     "name": "stdout",
     "output_type": "stream",
     "text": [
      "DK\n",
      "MGC test statistic: -0.11519529297809218\n",
      "P Value: 0.9860000000000008\n"
     ]
    },
    {
     "name": "stderr",
     "output_type": "stream",
     "text": [
      "/home/sundaysundya/.local/lib/python3.6/site-packages/mgcpy/independence_tests/abstract_class.py:154: UserWarning: The p-value is greater than 0.05, implying that the results are not statistically significant.\n",
      "Use results such as test_statistic and optimal_scale, with caution!\n",
      "  \"Use results such as test_statistic and optimal_scale, with caution!\")\n"
     ]
    },
    {
     "name": "stdout",
     "output_type": "stream",
     "text": [
      "HarOxCort\n",
      "MGC test statistic: -0.09684547656293904\n",
      "P Value: 0.9300000000000007\n"
     ]
    },
    {
     "name": "stderr",
     "output_type": "stream",
     "text": [
      "/home/sundaysundya/.local/lib/python3.6/site-packages/mgcpy/independence_tests/abstract_class.py:154: UserWarning: The p-value is greater than 0.05, implying that the results are not statistically significant.\n",
      "Use results such as test_statistic and optimal_scale, with caution!\n",
      "  \"Use results such as test_statistic and optimal_scale, with caution!\")\n"
     ]
    },
    {
     "name": "stdout",
     "output_type": "stream",
     "text": [
      "HarOxSub\n",
      "MGC test statistic: -0.11754889178344657\n",
      "P Value: 0.9680000000000007\n"
     ]
    },
    {
     "name": "stderr",
     "output_type": "stream",
     "text": [
      "/home/sundaysundya/.local/lib/python3.6/site-packages/mgcpy/independence_tests/abstract_class.py:154: UserWarning: The p-value is greater than 0.05, implying that the results are not statistically significant.\n",
      "Use results such as test_statistic and optimal_scale, with caution!\n",
      "  \"Use results such as test_statistic and optimal_scale, with caution!\")\n"
     ]
    },
    {
     "name": "stdout",
     "output_type": "stream",
     "text": [
      "hemispheric\n",
      "MGC test statistic: -0.08092062233419617\n",
      "P Value: 0.8400000000000006\n"
     ]
    },
    {
     "name": "stderr",
     "output_type": "stream",
     "text": [
      "/home/sundaysundya/.local/lib/python3.6/site-packages/mgcpy/independence_tests/abstract_class.py:154: UserWarning: The p-value is greater than 0.05, implying that the results are not statistically significant.\n",
      "Use results such as test_statistic and optimal_scale, with caution!\n",
      "  \"Use results such as test_statistic and optimal_scale, with caution!\")\n"
     ]
    },
    {
     "name": "stdout",
     "output_type": "stream",
     "text": [
      "pp264\n",
      "MGC test statistic: -0.17388161564373236\n",
      "P Value: 0.9860000000000008\n",
      "tissue\n",
      "MGC test statistic: -0.02444368685235211\n",
      "P Value: 0.4970000000000004\n"
     ]
    },
    {
     "name": "stderr",
     "output_type": "stream",
     "text": [
      "/home/sundaysundya/.local/lib/python3.6/site-packages/mgcpy/independence_tests/abstract_class.py:154: UserWarning: The p-value is greater than 0.05, implying that the results are not statistically significant.\n",
      "Use results such as test_statistic and optimal_scale, with caution!\n",
      "  \"Use results such as test_statistic and optimal_scale, with caution!\")\n"
     ]
    }
   ],
   "source": [
    "import numpy as np\n",
    "import seaborn as sns\n",
    "test = 'ACE'\n",
    "from mgcpy.independence_tests.mgc import MGC\n",
    "import matplotlib.pyplot as plt; plt.style.use('classic')\n",
    "sns.set()\n",
    "\n",
    "atlases = ('JHU','aal','brodmann','CPAC200','desikan','DK','HarOxCort','HarOxSub','hemispheric','pp264','tissue')\n",
    "results = np.zeros([1,11])\n",
    "i = 0\n",
    "\n",
    "for atlas in atlases:\n",
    "    \n",
    "        #atlas = 'tissue'\n",
    "    X = np.load('Xintersect_c_'+atlas+'.npy')\n",
    "    Y = np.load('Yintersect_c_'+atlas+'.npy')\n",
    "    #Y1 = Y[:,0].reshape(X.shape[0],1)\n",
    "    #Y2 = Y[:,1].reshape(X.shape[0],1)\n",
    "    #Y3 = Y[:,2].reshape(X.shape[0],1)  \n",
    "    mgc = MGC()\n",
    "    mgc_statistic, independence_test_metadata = mgc.test_statistic(X, Y)\n",
    "    p_value, metadata = mgc.p_value(X, Y)\n",
    "    \n",
    "    print(atlas)\n",
    "    print(\"MGC test statistic:\", mgc_statistic)\n",
    "    print(\"P Value:\", p_value)\n",
    "    results[0,i]=p_value\n",
    "    i+=1"
   ]
  },
  {
   "cell_type": "code",
   "execution_count": 3,
   "metadata": {},
   "outputs": [],
   "source": [
    "atlases = ['JHU','aal','brodmann','CPAC200','desikan','DK','HarOxCort','HarOxSub', 'hemispheric','pp264','tissue']\n",
    "tests = ['ACE','APQ_SR','ARI_P','ARI_S','ASR', 'ASSQ','AUDIT','Barratt','CELF_5_Screen','Digit_Span','FTND','Fitness_Endurance','IAT','MFQ_P','MFQ_SR','PAQ_A','PAQ_C','PCIAT','PSI','SCARED_P','SCARED_SR','SDS','STAI','SWAN','YSR']\n",
    "pvaltable = np.array([[0.925, 0.968, 0.976, 0.942, 0.999, 0.991, 0.939, 0.979, 0.844, 0.988, 0.502],\n",
    "                      [0.153, 0.031, 0.025, 0.01, 0.032, 0.015, 0.005, 0.025, 0.529, 0.075, 0.552],\n",
    "                      [0.168, 0.193, 0.109, 0.224, 0.139, 0.3, 0.221, 0.299, 0.22, 0.059, 0.141],\n",
    "                      [0.247, 0.312, 0.24, 0.118, 0.223, 0.326, 0.278, 0.157, 0.064, 0.144, 0.709],\n",
    "                      [0.804,0.548, 0.616, 0.611, 0.771, 0.755, 0.775, 0.765, 0.659, 0.851, 0.793],\n",
    "                      [0.0, 0.126, 0.165, 0.032, 0.045, 0.105, 0.077,0.063,0.085, 0.113,0.029],\n",
    "                      [0.752, 0.686, 0.607, 0.739, 0.607, 0.699, 0.648, 0.773, 0.063, 0.331, 0.278],\n",
    "                      [0.467, 0.307, 0.367, 0.405, 0.374, 0.292, 0.47, 0.139, 0.222, 0.053, 0.715],\n",
    "                      [0.32, 0.087, 0.078, 0.06, 0.06, 0.026, 0.045, 0.116, 0.079, 0.358, 0.895],\n",
    "                      [0.788, 0.854, 0.957, 0.899, 0.935, 0.792, 0.879, 0.586, 0.624, 0.536, 0.319],\n",
    "                      [1,\t1, 1, 1, 1, 1, 1, 1, 1, 1, 1],\n",
    "                      [1,\t1, 1, 1, 1, 1, 1, 1, 1, 1, 1],\n",
    "                      [0.056, 0.806, 0.609, 0.793, 0.794, 0.67, 0.731, 0.935, 0.954, 0.943, 0.077],\n",
    "                      [0.037, 0.037, 0.089, 0.019, 0.026, 0.097, 0.038, 0.035, 0.391, 0.033, 0.086],\n",
    "                      [0.862, 0.607, 0.231, 0.564, 0.647, 0.574, 0.637, 0.975, 0.966, 0.487, 0.108],\n",
    "                      [0.673, 0.967, 0.94, 0.867, 0.92, 0.874, 0.916, 0.631, 0.987, 0.837, 0.98],\n",
    "                      [0.054, 0.016, 0.022, 0.025, 0.025, 0.018, 0.015, 0.305, 0.006, 0.235, 0.426],\n",
    "                      [0.32, 0.403, 0.787, 0.368, 0.47, 0.417, 0.536, 0.597, 0.985, 0.217, 0.089],\n",
    "                      [0.672, 0.905, 0.808, 0.689, 0.766, 0.817, 0.915, 0.896, 0.746, 0.55, 0.768],\n",
    "                      [0.833, 0.981, 0.98, 0.996, 0.98, 0.974, 0.995, 0.894, 0.694, 0.807, 0.333],\n",
    "                      [0.084, 0.222, 0.134, 0.346, 0.148, 0.269, 0.363, 0.326, 0.141, 0.24, 0.715],\n",
    "                      [0.629, 0.858, 0.869, 0.891, 0.888, 0.939, 0.947, 0.369, 0.973, 0.728, 0.34],\n",
    "                      [0.433, 0.526, 0.547, 0.562, 0.584, 0.602, 0.666, 0.871, 0.324, 0.614, 0.988],\n",
    "                      [0.039, 0.023, 0.024, 0.027, 0.072, 0.027, 0.093, 0.062, 0.052, 0.002, 0.032],\n",
    "                      [0.898, 0.376, 0.575, 0.521, 0.43, 0.59, 0.487, 0.53, 0.688, 0.899, 0.08]])"
   ]
  },
  {
   "cell_type": "code",
   "execution_count": 4,
   "metadata": {},
   "outputs": [
    {
     "data": {
      "text/plain": [
       "<matplotlib.axes._subplots.AxesSubplot at 0x7f42511fc6a0>"
      ]
     },
     "execution_count": 4,
     "metadata": {},
     "output_type": "execute_result"
    },
    {
     "data": {
      "image/png": "[encoded data removed]",
      "text/plain": [
       "<Figure size 432x288 with 2 Axes>"
      ]
     },
     "metadata": {
      "needs_background": "light"
     },
     "output_type": "display_data"
    }
   ],
   "source": [
    "xticks = np.linspace(0, len(atlases)-1, len(atlases), dtype=np.int)\n",
    "xticklabels = [atlases[idx] for idx in xticks]\n",
    "yticks = np.linspace(0, len(tests)-1, len(tests), dtype=np.int)\n",
    "yticklabels = [tests[ndx] for ndx in yticks]\n",
    "sns.heatmap(pvaltable, vmin = 0, vmax = 0.05, xticklabels=xticklabels, yticklabels=yticklabels, cmap = sns.cm.rocket_r, square = True)"
   ]
  },
  {
   "cell_type": "code",
   "execution_count": 5,
   "metadata": {},
   "outputs": [
    {
     "data": {
      "text/plain": [
       "<matplotlib.axes._subplots.AxesSubplot at 0x7f4219148208>"
      ]
     },
     "execution_count": 5,
     "metadata": {},
     "output_type": "execute_result"
    },
    {
     "data": {
      "image/png": "[encoded data removed]",
      "text/plain": [
       "<Figure size 432x288 with 2 Axes>"
      ]
     },
     "metadata": {
      "needs_background": "light"
     },
     "output_type": "display_data"
    }
   ],
   "source": [
    "xticks = np.linspace(0, len(atlases)-1, len(atlases), dtype=np.int)\n",
    "xticklabels = [atlases[idx] for idx in xticks]\n",
    "yticks = np.linspace(0, len(tests)-1, len(tests), dtype=np.int)\n",
    "yticklabels = [tests[ndx] for ndx in yticks]\n",
    "sns.heatmap(pvaltable, xticklabels=xticklabels, yticklabels=yticklabels, cmap = sns.cm.rocket_r, square = True)"
   ]
  },
  {
   "cell_type": "code",
   "execution_count": null,
   "metadata": {},
   "outputs": [],
   "source": []
  }
 ],
 "metadata": {
  "kernelspec": {
   "display_name": "Python 3",
   "language": "python",
   "name": "python3"
  },
  "language_info": {
   "codemirror_mode": {
    "name": "ipython",
    "version": 3
   },
   "file_extension": ".py",
   "mimetype": "text/x-python",
   "name": "python",
   "nbconvert_exporter": "python",
   "pygments_lexer": "ipython3",
   "version": "3.6.7"
  }
 },
 "nbformat": 4,
 "nbformat_minor": 2
}
